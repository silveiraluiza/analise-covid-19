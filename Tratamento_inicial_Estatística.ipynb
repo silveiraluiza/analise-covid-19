{
  "nbformat": 4,
  "nbformat_minor": 0,
  "metadata": {
    "colab": {
      "name": "Tratamento inicial - Estatística.ipynb",
      "provenance": [],
      "collapsed_sections": []
    },
    "kernelspec": {
      "name": "python3",
      "display_name": "Python 3"
    }
  },
  "cells": [
    {
      "cell_type": "code",
      "metadata": {
        "id": "bXQF1VGvjfcu",
        "colab_type": "code",
        "colab": {
          "base_uri": "https://localhost:8080/",
          "height": 88
        },
        "outputId": "e873ea86-21ba-409f-ecf2-68d77614777d"
      },
      "source": [
        "import pandas as pd\n",
        "import numpy as np\n",
        "from google.colab import drive\n",
        "import matplotlib.pyplot as plt\n",
        "import seaborn as sns\n",
        "from collections import Counter\n",
        "from sklearn.preprocessing import LabelEncoder\n",
        "from sklearn.model_selection import cross_val_score\n",
        "from sklearn.model_selection import RepeatedStratifiedKFold\n",
        "from sklearn import svm\n",
        "from sklearn.model_selection import train_test_split\n",
        "from sklearn.utils import shuffle\n",
        "\n",
        "drive.mount('/content/gdrive')"
      ],
      "execution_count": null,
      "outputs": [
        {
          "output_type": "stream",
          "text": [
            "Drive already mounted at /content/gdrive; to attempt to forcibly remount, call drive.mount(\"/content/gdrive\", force_remount=True).\n"
          ],
          "name": "stdout"
        },
        {
          "output_type": "stream",
          "text": [
            "/usr/local/lib/python3.6/dist-packages/statsmodels/tools/_testing.py:19: FutureWarning: pandas.util.testing is deprecated. Use the functions in the public API at pandas.testing instead.\n",
            "  import pandas.util.testing as tm\n"
          ],
          "name": "stderr"
        }
      ]
    },
    {
      "cell_type": "markdown",
      "metadata": {
        "id": "vm7FZ-JdYznQ",
        "colab_type": "text"
      },
      "source": [
        "## Importando os dados \n",
        "\n",
        "fonte: https://covid.saude.gov.br/"
      ]
    },
    {
      "cell_type": "code",
      "metadata": {
        "id": "f4s_jFL0m1qc",
        "colab_type": "code",
        "colab": {
          "base_uri": "https://localhost:8080/",
          "height": 566
        },
        "outputId": "ad0e380b-8a02-4be5-d347-2ec0454b9659"
      },
      "source": [
        "data = pd.read_excel('/content/gdrive/My Drive/data/HIST_PAINEL_COVIDBR_22set2020.xlsx')\n",
        "\n",
        "# Visualização dos dados \n",
        "print(data.shape)\n",
        "data.head(10)"
      ],
      "execution_count": null,
      "outputs": [
        {
          "output_type": "stream",
          "text": [
            "(1011748, 17)\n"
          ],
          "name": "stdout"
        },
        {
          "output_type": "execute_result",
          "data": {
            "text/html": [
              "<div>\n",
              "<style scoped>\n",
              "    .dataframe tbody tr th:only-of-type {\n",
              "        vertical-align: middle;\n",
              "    }\n",
              "\n",
              "    .dataframe tbody tr th {\n",
              "        vertical-align: top;\n",
              "    }\n",
              "\n",
              "    .dataframe thead th {\n",
              "        text-align: right;\n",
              "    }\n",
              "</style>\n",
              "<table border=\"1\" class=\"dataframe\">\n",
              "  <thead>\n",
              "    <tr style=\"text-align: right;\">\n",
              "      <th></th>\n",
              "      <th>regiao</th>\n",
              "      <th>estado</th>\n",
              "      <th>municipio</th>\n",
              "      <th>coduf</th>\n",
              "      <th>codmun</th>\n",
              "      <th>codRegiaoSaude</th>\n",
              "      <th>nomeRegiaoSaude</th>\n",
              "      <th>data</th>\n",
              "      <th>semanaEpi</th>\n",
              "      <th>populacaoTCU2019</th>\n",
              "      <th>casosAcumulado</th>\n",
              "      <th>casosNovos</th>\n",
              "      <th>obitosAcumulado</th>\n",
              "      <th>obitosNovos</th>\n",
              "      <th>Recuperadosnovos</th>\n",
              "      <th>emAcompanhamentoNovos</th>\n",
              "      <th>interior/metropolitana</th>\n",
              "    </tr>\n",
              "  </thead>\n",
              "  <tbody>\n",
              "    <tr>\n",
              "      <th>0</th>\n",
              "      <td>Brasil</td>\n",
              "      <td>NaN</td>\n",
              "      <td>NaN</td>\n",
              "      <td>76</td>\n",
              "      <td>NaN</td>\n",
              "      <td>NaN</td>\n",
              "      <td>NaN</td>\n",
              "      <td>2020-02-25</td>\n",
              "      <td>9</td>\n",
              "      <td>210147125.0</td>\n",
              "      <td>0</td>\n",
              "      <td>0</td>\n",
              "      <td>0</td>\n",
              "      <td>0</td>\n",
              "      <td>NaN</td>\n",
              "      <td>NaN</td>\n",
              "      <td>NaN</td>\n",
              "    </tr>\n",
              "    <tr>\n",
              "      <th>1</th>\n",
              "      <td>Brasil</td>\n",
              "      <td>NaN</td>\n",
              "      <td>NaN</td>\n",
              "      <td>76</td>\n",
              "      <td>NaN</td>\n",
              "      <td>NaN</td>\n",
              "      <td>NaN</td>\n",
              "      <td>2020-02-26</td>\n",
              "      <td>9</td>\n",
              "      <td>210147125.0</td>\n",
              "      <td>1</td>\n",
              "      <td>1</td>\n",
              "      <td>0</td>\n",
              "      <td>0</td>\n",
              "      <td>NaN</td>\n",
              "      <td>NaN</td>\n",
              "      <td>NaN</td>\n",
              "    </tr>\n",
              "    <tr>\n",
              "      <th>2</th>\n",
              "      <td>Brasil</td>\n",
              "      <td>NaN</td>\n",
              "      <td>NaN</td>\n",
              "      <td>76</td>\n",
              "      <td>NaN</td>\n",
              "      <td>NaN</td>\n",
              "      <td>NaN</td>\n",
              "      <td>2020-02-27</td>\n",
              "      <td>9</td>\n",
              "      <td>210147125.0</td>\n",
              "      <td>1</td>\n",
              "      <td>0</td>\n",
              "      <td>0</td>\n",
              "      <td>0</td>\n",
              "      <td>NaN</td>\n",
              "      <td>NaN</td>\n",
              "      <td>NaN</td>\n",
              "    </tr>\n",
              "    <tr>\n",
              "      <th>3</th>\n",
              "      <td>Brasil</td>\n",
              "      <td>NaN</td>\n",
              "      <td>NaN</td>\n",
              "      <td>76</td>\n",
              "      <td>NaN</td>\n",
              "      <td>NaN</td>\n",
              "      <td>NaN</td>\n",
              "      <td>2020-02-28</td>\n",
              "      <td>9</td>\n",
              "      <td>210147125.0</td>\n",
              "      <td>1</td>\n",
              "      <td>0</td>\n",
              "      <td>0</td>\n",
              "      <td>0</td>\n",
              "      <td>NaN</td>\n",
              "      <td>NaN</td>\n",
              "      <td>NaN</td>\n",
              "    </tr>\n",
              "    <tr>\n",
              "      <th>4</th>\n",
              "      <td>Brasil</td>\n",
              "      <td>NaN</td>\n",
              "      <td>NaN</td>\n",
              "      <td>76</td>\n",
              "      <td>NaN</td>\n",
              "      <td>NaN</td>\n",
              "      <td>NaN</td>\n",
              "      <td>2020-02-29</td>\n",
              "      <td>9</td>\n",
              "      <td>210147125.0</td>\n",
              "      <td>2</td>\n",
              "      <td>1</td>\n",
              "      <td>0</td>\n",
              "      <td>0</td>\n",
              "      <td>NaN</td>\n",
              "      <td>NaN</td>\n",
              "      <td>NaN</td>\n",
              "    </tr>\n",
              "    <tr>\n",
              "      <th>5</th>\n",
              "      <td>Brasil</td>\n",
              "      <td>NaN</td>\n",
              "      <td>NaN</td>\n",
              "      <td>76</td>\n",
              "      <td>NaN</td>\n",
              "      <td>NaN</td>\n",
              "      <td>NaN</td>\n",
              "      <td>2020-03-01</td>\n",
              "      <td>10</td>\n",
              "      <td>210147125.0</td>\n",
              "      <td>2</td>\n",
              "      <td>0</td>\n",
              "      <td>0</td>\n",
              "      <td>0</td>\n",
              "      <td>NaN</td>\n",
              "      <td>NaN</td>\n",
              "      <td>NaN</td>\n",
              "    </tr>\n",
              "    <tr>\n",
              "      <th>6</th>\n",
              "      <td>Brasil</td>\n",
              "      <td>NaN</td>\n",
              "      <td>NaN</td>\n",
              "      <td>76</td>\n",
              "      <td>NaN</td>\n",
              "      <td>NaN</td>\n",
              "      <td>NaN</td>\n",
              "      <td>2020-03-02</td>\n",
              "      <td>10</td>\n",
              "      <td>210147125.0</td>\n",
              "      <td>2</td>\n",
              "      <td>0</td>\n",
              "      <td>0</td>\n",
              "      <td>0</td>\n",
              "      <td>NaN</td>\n",
              "      <td>NaN</td>\n",
              "      <td>NaN</td>\n",
              "    </tr>\n",
              "    <tr>\n",
              "      <th>7</th>\n",
              "      <td>Brasil</td>\n",
              "      <td>NaN</td>\n",
              "      <td>NaN</td>\n",
              "      <td>76</td>\n",
              "      <td>NaN</td>\n",
              "      <td>NaN</td>\n",
              "      <td>NaN</td>\n",
              "      <td>2020-03-03</td>\n",
              "      <td>10</td>\n",
              "      <td>210147125.0</td>\n",
              "      <td>2</td>\n",
              "      <td>0</td>\n",
              "      <td>0</td>\n",
              "      <td>0</td>\n",
              "      <td>NaN</td>\n",
              "      <td>NaN</td>\n",
              "      <td>NaN</td>\n",
              "    </tr>\n",
              "    <tr>\n",
              "      <th>8</th>\n",
              "      <td>Brasil</td>\n",
              "      <td>NaN</td>\n",
              "      <td>NaN</td>\n",
              "      <td>76</td>\n",
              "      <td>NaN</td>\n",
              "      <td>NaN</td>\n",
              "      <td>NaN</td>\n",
              "      <td>2020-03-04</td>\n",
              "      <td>10</td>\n",
              "      <td>210147125.0</td>\n",
              "      <td>3</td>\n",
              "      <td>1</td>\n",
              "      <td>0</td>\n",
              "      <td>0</td>\n",
              "      <td>NaN</td>\n",
              "      <td>NaN</td>\n",
              "      <td>NaN</td>\n",
              "    </tr>\n",
              "    <tr>\n",
              "      <th>9</th>\n",
              "      <td>Brasil</td>\n",
              "      <td>NaN</td>\n",
              "      <td>NaN</td>\n",
              "      <td>76</td>\n",
              "      <td>NaN</td>\n",
              "      <td>NaN</td>\n",
              "      <td>NaN</td>\n",
              "      <td>2020-03-05</td>\n",
              "      <td>10</td>\n",
              "      <td>210147125.0</td>\n",
              "      <td>7</td>\n",
              "      <td>4</td>\n",
              "      <td>0</td>\n",
              "      <td>0</td>\n",
              "      <td>NaN</td>\n",
              "      <td>NaN</td>\n",
              "      <td>NaN</td>\n",
              "    </tr>\n",
              "  </tbody>\n",
              "</table>\n",
              "</div>"
            ],
            "text/plain": [
              "   regiao estado  ... emAcompanhamentoNovos  interior/metropolitana\n",
              "0  Brasil    NaN  ...                   NaN                     NaN\n",
              "1  Brasil    NaN  ...                   NaN                     NaN\n",
              "2  Brasil    NaN  ...                   NaN                     NaN\n",
              "3  Brasil    NaN  ...                   NaN                     NaN\n",
              "4  Brasil    NaN  ...                   NaN                     NaN\n",
              "5  Brasil    NaN  ...                   NaN                     NaN\n",
              "6  Brasil    NaN  ...                   NaN                     NaN\n",
              "7  Brasil    NaN  ...                   NaN                     NaN\n",
              "8  Brasil    NaN  ...                   NaN                     NaN\n",
              "9  Brasil    NaN  ...                   NaN                     NaN\n",
              "\n",
              "[10 rows x 17 columns]"
            ]
          },
          "metadata": {
            "tags": []
          },
          "execution_count": 2
        }
      ]
    },
    {
      "cell_type": "code",
      "metadata": {
        "id": "xmaKl34iptel",
        "colab_type": "code",
        "colab": {
          "base_uri": "https://localhost:8080/",
          "height": 136
        },
        "outputId": "be2c4add-7a0c-42e1-a315-d68ffeca1fae"
      },
      "source": [
        "data.regiao.value_counts()"
      ],
      "execution_count": null,
      "outputs": [
        {
          "output_type": "execute_result",
          "data": {
            "text/plain": [
              "Nordeste        326439\n",
              "Sudeste         301804\n",
              "Sul             215013\n",
              "Centro-Oeste     85264\n",
              "Norte            83017\n",
              "Brasil             211\n",
              "Name: regiao, dtype: int64"
            ]
          },
          "metadata": {
            "tags": []
          },
          "execution_count": 3
        }
      ]
    },
    {
      "cell_type": "markdown",
      "metadata": {
        "id": "cpg5pMA1Y_j1",
        "colab_type": "text"
      },
      "source": [
        "## Separando os dados gerais brasileiros"
      ]
    },
    {
      "cell_type": "code",
      "metadata": {
        "id": "RztZqzDwqJmk",
        "colab_type": "code",
        "colab": {}
      },
      "source": [
        "br = data.loc[data.regiao == \"Brasil\"]"
      ],
      "execution_count": null,
      "outputs": []
    },
    {
      "cell_type": "code",
      "metadata": {
        "id": "9_0B3PmdqVcB",
        "colab_type": "code",
        "colab": {
          "base_uri": "https://localhost:8080/",
          "height": 609
        },
        "outputId": "8b2ea782-6a67-477d-8ba1-7c7f9fcf0e57"
      },
      "source": [
        "br "
      ],
      "execution_count": null,
      "outputs": [
        {
          "output_type": "execute_result",
          "data": {
            "text/html": [
              "<div>\n",
              "<style scoped>\n",
              "    .dataframe tbody tr th:only-of-type {\n",
              "        vertical-align: middle;\n",
              "    }\n",
              "\n",
              "    .dataframe tbody tr th {\n",
              "        vertical-align: top;\n",
              "    }\n",
              "\n",
              "    .dataframe thead th {\n",
              "        text-align: right;\n",
              "    }\n",
              "</style>\n",
              "<table border=\"1\" class=\"dataframe\">\n",
              "  <thead>\n",
              "    <tr style=\"text-align: right;\">\n",
              "      <th></th>\n",
              "      <th>regiao</th>\n",
              "      <th>estado</th>\n",
              "      <th>municipio</th>\n",
              "      <th>coduf</th>\n",
              "      <th>codmun</th>\n",
              "      <th>codRegiaoSaude</th>\n",
              "      <th>nomeRegiaoSaude</th>\n",
              "      <th>data</th>\n",
              "      <th>semanaEpi</th>\n",
              "      <th>populacaoTCU2019</th>\n",
              "      <th>casosAcumulado</th>\n",
              "      <th>casosNovos</th>\n",
              "      <th>obitosAcumulado</th>\n",
              "      <th>obitosNovos</th>\n",
              "      <th>Recuperadosnovos</th>\n",
              "      <th>emAcompanhamentoNovos</th>\n",
              "      <th>interior/metropolitana</th>\n",
              "    </tr>\n",
              "  </thead>\n",
              "  <tbody>\n",
              "    <tr>\n",
              "      <th>0</th>\n",
              "      <td>Brasil</td>\n",
              "      <td>NaN</td>\n",
              "      <td>NaN</td>\n",
              "      <td>76</td>\n",
              "      <td>NaN</td>\n",
              "      <td>NaN</td>\n",
              "      <td>NaN</td>\n",
              "      <td>2020-02-25</td>\n",
              "      <td>9</td>\n",
              "      <td>210147125.0</td>\n",
              "      <td>0</td>\n",
              "      <td>0</td>\n",
              "      <td>0</td>\n",
              "      <td>0</td>\n",
              "      <td>NaN</td>\n",
              "      <td>NaN</td>\n",
              "      <td>NaN</td>\n",
              "    </tr>\n",
              "    <tr>\n",
              "      <th>1</th>\n",
              "      <td>Brasil</td>\n",
              "      <td>NaN</td>\n",
              "      <td>NaN</td>\n",
              "      <td>76</td>\n",
              "      <td>NaN</td>\n",
              "      <td>NaN</td>\n",
              "      <td>NaN</td>\n",
              "      <td>2020-02-26</td>\n",
              "      <td>9</td>\n",
              "      <td>210147125.0</td>\n",
              "      <td>1</td>\n",
              "      <td>1</td>\n",
              "      <td>0</td>\n",
              "      <td>0</td>\n",
              "      <td>NaN</td>\n",
              "      <td>NaN</td>\n",
              "      <td>NaN</td>\n",
              "    </tr>\n",
              "    <tr>\n",
              "      <th>2</th>\n",
              "      <td>Brasil</td>\n",
              "      <td>NaN</td>\n",
              "      <td>NaN</td>\n",
              "      <td>76</td>\n",
              "      <td>NaN</td>\n",
              "      <td>NaN</td>\n",
              "      <td>NaN</td>\n",
              "      <td>2020-02-27</td>\n",
              "      <td>9</td>\n",
              "      <td>210147125.0</td>\n",
              "      <td>1</td>\n",
              "      <td>0</td>\n",
              "      <td>0</td>\n",
              "      <td>0</td>\n",
              "      <td>NaN</td>\n",
              "      <td>NaN</td>\n",
              "      <td>NaN</td>\n",
              "    </tr>\n",
              "    <tr>\n",
              "      <th>3</th>\n",
              "      <td>Brasil</td>\n",
              "      <td>NaN</td>\n",
              "      <td>NaN</td>\n",
              "      <td>76</td>\n",
              "      <td>NaN</td>\n",
              "      <td>NaN</td>\n",
              "      <td>NaN</td>\n",
              "      <td>2020-02-28</td>\n",
              "      <td>9</td>\n",
              "      <td>210147125.0</td>\n",
              "      <td>1</td>\n",
              "      <td>0</td>\n",
              "      <td>0</td>\n",
              "      <td>0</td>\n",
              "      <td>NaN</td>\n",
              "      <td>NaN</td>\n",
              "      <td>NaN</td>\n",
              "    </tr>\n",
              "    <tr>\n",
              "      <th>4</th>\n",
              "      <td>Brasil</td>\n",
              "      <td>NaN</td>\n",
              "      <td>NaN</td>\n",
              "      <td>76</td>\n",
              "      <td>NaN</td>\n",
              "      <td>NaN</td>\n",
              "      <td>NaN</td>\n",
              "      <td>2020-02-29</td>\n",
              "      <td>9</td>\n",
              "      <td>210147125.0</td>\n",
              "      <td>2</td>\n",
              "      <td>1</td>\n",
              "      <td>0</td>\n",
              "      <td>0</td>\n",
              "      <td>NaN</td>\n",
              "      <td>NaN</td>\n",
              "      <td>NaN</td>\n",
              "    </tr>\n",
              "    <tr>\n",
              "      <th>...</th>\n",
              "      <td>...</td>\n",
              "      <td>...</td>\n",
              "      <td>...</td>\n",
              "      <td>...</td>\n",
              "      <td>...</td>\n",
              "      <td>...</td>\n",
              "      <td>...</td>\n",
              "      <td>...</td>\n",
              "      <td>...</td>\n",
              "      <td>...</td>\n",
              "      <td>...</td>\n",
              "      <td>...</td>\n",
              "      <td>...</td>\n",
              "      <td>...</td>\n",
              "      <td>...</td>\n",
              "      <td>...</td>\n",
              "      <td>...</td>\n",
              "    </tr>\n",
              "    <tr>\n",
              "      <th>206</th>\n",
              "      <td>Brasil</td>\n",
              "      <td>NaN</td>\n",
              "      <td>NaN</td>\n",
              "      <td>76</td>\n",
              "      <td>NaN</td>\n",
              "      <td>NaN</td>\n",
              "      <td>NaN</td>\n",
              "      <td>2020-09-18</td>\n",
              "      <td>38</td>\n",
              "      <td>210147125.0</td>\n",
              "      <td>4495183</td>\n",
              "      <td>39797</td>\n",
              "      <td>135793</td>\n",
              "      <td>858</td>\n",
              "      <td>3789139.0</td>\n",
              "      <td>570251.0</td>\n",
              "      <td>NaN</td>\n",
              "    </tr>\n",
              "    <tr>\n",
              "      <th>207</th>\n",
              "      <td>Brasil</td>\n",
              "      <td>NaN</td>\n",
              "      <td>NaN</td>\n",
              "      <td>76</td>\n",
              "      <td>NaN</td>\n",
              "      <td>NaN</td>\n",
              "      <td>NaN</td>\n",
              "      <td>2020-09-19</td>\n",
              "      <td>38</td>\n",
              "      <td>210147125.0</td>\n",
              "      <td>4528240</td>\n",
              "      <td>33057</td>\n",
              "      <td>136532</td>\n",
              "      <td>739</td>\n",
              "      <td>3820095.0</td>\n",
              "      <td>571613.0</td>\n",
              "      <td>NaN</td>\n",
              "    </tr>\n",
              "    <tr>\n",
              "      <th>208</th>\n",
              "      <td>Brasil</td>\n",
              "      <td>NaN</td>\n",
              "      <td>NaN</td>\n",
              "      <td>76</td>\n",
              "      <td>NaN</td>\n",
              "      <td>NaN</td>\n",
              "      <td>NaN</td>\n",
              "      <td>2020-09-20</td>\n",
              "      <td>39</td>\n",
              "      <td>210147125.0</td>\n",
              "      <td>4544629</td>\n",
              "      <td>16389</td>\n",
              "      <td>136895</td>\n",
              "      <td>363</td>\n",
              "      <td>3851227.0</td>\n",
              "      <td>556507.0</td>\n",
              "      <td>NaN</td>\n",
              "    </tr>\n",
              "    <tr>\n",
              "      <th>209</th>\n",
              "      <td>Brasil</td>\n",
              "      <td>NaN</td>\n",
              "      <td>NaN</td>\n",
              "      <td>76</td>\n",
              "      <td>NaN</td>\n",
              "      <td>NaN</td>\n",
              "      <td>NaN</td>\n",
              "      <td>2020-09-21</td>\n",
              "      <td>39</td>\n",
              "      <td>210147125.0</td>\n",
              "      <td>4558068</td>\n",
              "      <td>13439</td>\n",
              "      <td>137272</td>\n",
              "      <td>377</td>\n",
              "      <td>3887199.0</td>\n",
              "      <td>533597.0</td>\n",
              "      <td>NaN</td>\n",
              "    </tr>\n",
              "    <tr>\n",
              "      <th>210</th>\n",
              "      <td>Brasil</td>\n",
              "      <td>NaN</td>\n",
              "      <td>NaN</td>\n",
              "      <td>76</td>\n",
              "      <td>NaN</td>\n",
              "      <td>NaN</td>\n",
              "      <td>NaN</td>\n",
              "      <td>2020-09-22</td>\n",
              "      <td>39</td>\n",
              "      <td>210147125.0</td>\n",
              "      <td>4591604</td>\n",
              "      <td>33536</td>\n",
              "      <td>138108</td>\n",
              "      <td>836</td>\n",
              "      <td>3945627.0</td>\n",
              "      <td>507869.0</td>\n",
              "      <td>NaN</td>\n",
              "    </tr>\n",
              "  </tbody>\n",
              "</table>\n",
              "<p>211 rows × 17 columns</p>\n",
              "</div>"
            ],
            "text/plain": [
              "     regiao estado  ... emAcompanhamentoNovos  interior/metropolitana\n",
              "0    Brasil    NaN  ...                   NaN                     NaN\n",
              "1    Brasil    NaN  ...                   NaN                     NaN\n",
              "2    Brasil    NaN  ...                   NaN                     NaN\n",
              "3    Brasil    NaN  ...                   NaN                     NaN\n",
              "4    Brasil    NaN  ...                   NaN                     NaN\n",
              "..      ...    ...  ...                   ...                     ...\n",
              "206  Brasil    NaN  ...              570251.0                     NaN\n",
              "207  Brasil    NaN  ...              571613.0                     NaN\n",
              "208  Brasil    NaN  ...              556507.0                     NaN\n",
              "209  Brasil    NaN  ...              533597.0                     NaN\n",
              "210  Brasil    NaN  ...              507869.0                     NaN\n",
              "\n",
              "[211 rows x 17 columns]"
            ]
          },
          "metadata": {
            "tags": []
          },
          "execution_count": 5
        }
      ]
    },
    {
      "cell_type": "markdown",
      "metadata": {
        "id": "ol8RcKuXZXI4",
        "colab_type": "text"
      },
      "source": [
        "### Casos Acumulados"
      ]
    },
    {
      "cell_type": "code",
      "metadata": {
        "id": "T6rSGWUdu6Q-",
        "colab_type": "code",
        "colab": {
          "base_uri": "https://localhost:8080/",
          "height": 307
        },
        "outputId": "d092275e-845a-41a9-baab-22576f36fec4"
      },
      "source": [
        "\n",
        "plt.plot(br.data, br.casosAcumulado, 'b-', label='Casos Acumulados')\n",
        "# Create legend.\n",
        "plt.legend(loc='upper left')\n",
        "plt.xlabel('Dias')\n",
        "plt.ylabel('Qtd Casos')"
      ],
      "execution_count": null,
      "outputs": [
        {
          "output_type": "execute_result",
          "data": {
            "text/plain": [
              "Text(0, 0.5, 'Qtd Casos')"
            ]
          },
          "metadata": {
            "tags": []
          },
          "execution_count": 6
        },
        {
          "output_type": "display_data",
          "data": {
            "image/png": "[encoded data removed]",
            "text/plain": [
              "<Figure size 432x288 with 1 Axes>"
            ]
          },
          "metadata": {
            "tags": [],
            "needs_background": "light"
          }
        }
      ]
    },
    {
      "cell_type": "markdown",
      "metadata": {
        "id": "i01bg2vFZZ3V",
        "colab_type": "text"
      },
      "source": [
        "### Novos Casos"
      ]
    },
    {
      "cell_type": "code",
      "metadata": {
        "id": "1Y_W1isv0a6K",
        "colab_type": "code",
        "colab": {
          "base_uri": "https://localhost:8080/",
          "height": 296
        },
        "outputId": "61b6233e-5d3b-43b2-e948-836d1495f9a1"
      },
      "source": [
        "\n",
        "plt.plot(br.data, br.casosNovos, 'g-', label='Novos Casos')\n",
        "\n",
        "# Create legend.\n",
        "plt.legend(loc='upper left')\n",
        "plt.xlabel('Dias')\n",
        "plt.ylabel('Qtd Casos')"
      ],
      "execution_count": null,
      "outputs": [
        {
          "output_type": "execute_result",
          "data": {
            "text/plain": [
              "Text(0, 0.5, 'Qtd Casos')"
            ]
          },
          "metadata": {
            "tags": []
          },
          "execution_count": 7
        },
        {
          "output_type": "display_data",
          "data": {
            "image/png": "[encoded data removed]",
            "text/plain": [
              "<Figure size 432x288 with 1 Axes>"
            ]
          },
          "metadata": {
            "tags": [],
            "needs_background": "light"
          }
        }
      ]
    },
    {
      "cell_type": "markdown",
      "metadata": {
        "id": "3DAU5JGP5Auf",
        "colab_type": "text"
      },
      "source": [
        "# Recife"
      ]
    },
    {
      "cell_type": "code",
      "metadata": {
        "id": "_-l3I9KW13KS",
        "colab_type": "code",
        "colab": {}
      },
      "source": [
        "pe = data.loc[data.estado == \"PE\"]\n",
        "pe = pe.loc[pe.municipio == \"Recife\"]"
      ],
      "execution_count": null,
      "outputs": []
    },
    {
      "cell_type": "code",
      "metadata": {
        "id": "Yl_3a2rC4eJ8",
        "colab_type": "code",
        "colab": {
          "base_uri": "https://localhost:8080/",
          "height": 309
        },
        "outputId": "b8dc12d0-0f5e-4cff-b4c4-1cf54404e8f1"
      },
      "source": [
        "pe.head()"
      ],
      "execution_count": null,
      "outputs": [
        {
          "output_type": "execute_result",
          "data": {
            "text/html": [
              "<div>\n",
              "<style scoped>\n",
              "    .dataframe tbody tr th:only-of-type {\n",
              "        vertical-align: middle;\n",
              "    }\n",
              "\n",
              "    .dataframe tbody tr th {\n",
              "        vertical-align: top;\n",
              "    }\n",
              "\n",
              "    .dataframe thead th {\n",
              "        text-align: right;\n",
              "    }\n",
              "</style>\n",
              "<table border=\"1\" class=\"dataframe\">\n",
              "  <thead>\n",
              "    <tr style=\"text-align: right;\">\n",
              "      <th></th>\n",
              "      <th>regiao</th>\n",
              "      <th>estado</th>\n",
              "      <th>municipio</th>\n",
              "      <th>coduf</th>\n",
              "      <th>codmun</th>\n",
              "      <th>codRegiaoSaude</th>\n",
              "      <th>nomeRegiaoSaude</th>\n",
              "      <th>data</th>\n",
              "      <th>semanaEpi</th>\n",
              "      <th>populacaoTCU2019</th>\n",
              "      <th>casosAcumulado</th>\n",
              "      <th>casosNovos</th>\n",
              "      <th>obitosAcumulado</th>\n",
              "      <th>obitosNovos</th>\n",
              "      <th>Recuperadosnovos</th>\n",
              "      <th>emAcompanhamentoNovos</th>\n",
              "      <th>interior/metropolitana</th>\n",
              "    </tr>\n",
              "  </thead>\n",
              "  <tbody>\n",
              "    <tr>\n",
              "      <th>294808</th>\n",
              "      <td>Nordeste</td>\n",
              "      <td>PE</td>\n",
              "      <td>Recife</td>\n",
              "      <td>26</td>\n",
              "      <td>261160.0</td>\n",
              "      <td>26010.0</td>\n",
              "      <td>RECIFE</td>\n",
              "      <td>2020-03-27</td>\n",
              "      <td>13</td>\n",
              "      <td>1645727.0</td>\n",
              "      <td>0</td>\n",
              "      <td>0</td>\n",
              "      <td>0</td>\n",
              "      <td>0</td>\n",
              "      <td>NaN</td>\n",
              "      <td>NaN</td>\n",
              "      <td>1.0</td>\n",
              "    </tr>\n",
              "    <tr>\n",
              "      <th>294809</th>\n",
              "      <td>Nordeste</td>\n",
              "      <td>PE</td>\n",
              "      <td>Recife</td>\n",
              "      <td>26</td>\n",
              "      <td>261160.0</td>\n",
              "      <td>26010.0</td>\n",
              "      <td>RECIFE</td>\n",
              "      <td>2020-03-28</td>\n",
              "      <td>13</td>\n",
              "      <td>1645727.0</td>\n",
              "      <td>46</td>\n",
              "      <td>46</td>\n",
              "      <td>4</td>\n",
              "      <td>4</td>\n",
              "      <td>NaN</td>\n",
              "      <td>NaN</td>\n",
              "      <td>1.0</td>\n",
              "    </tr>\n",
              "    <tr>\n",
              "      <th>294810</th>\n",
              "      <td>Nordeste</td>\n",
              "      <td>PE</td>\n",
              "      <td>Recife</td>\n",
              "      <td>26</td>\n",
              "      <td>261160.0</td>\n",
              "      <td>26010.0</td>\n",
              "      <td>RECIFE</td>\n",
              "      <td>2020-03-29</td>\n",
              "      <td>14</td>\n",
              "      <td>1645727.0</td>\n",
              "      <td>50</td>\n",
              "      <td>4</td>\n",
              "      <td>4</td>\n",
              "      <td>0</td>\n",
              "      <td>NaN</td>\n",
              "      <td>NaN</td>\n",
              "      <td>1.0</td>\n",
              "    </tr>\n",
              "    <tr>\n",
              "      <th>294811</th>\n",
              "      <td>Nordeste</td>\n",
              "      <td>PE</td>\n",
              "      <td>Recife</td>\n",
              "      <td>26</td>\n",
              "      <td>261160.0</td>\n",
              "      <td>26010.0</td>\n",
              "      <td>RECIFE</td>\n",
              "      <td>2020-03-30</td>\n",
              "      <td>14</td>\n",
              "      <td>1645727.0</td>\n",
              "      <td>53</td>\n",
              "      <td>3</td>\n",
              "      <td>4</td>\n",
              "      <td>0</td>\n",
              "      <td>NaN</td>\n",
              "      <td>NaN</td>\n",
              "      <td>1.0</td>\n",
              "    </tr>\n",
              "    <tr>\n",
              "      <th>294812</th>\n",
              "      <td>Nordeste</td>\n",
              "      <td>PE</td>\n",
              "      <td>Recife</td>\n",
              "      <td>26</td>\n",
              "      <td>261160.0</td>\n",
              "      <td>26010.0</td>\n",
              "      <td>RECIFE</td>\n",
              "      <td>2020-03-31</td>\n",
              "      <td>14</td>\n",
              "      <td>1645727.0</td>\n",
              "      <td>1</td>\n",
              "      <td>-52</td>\n",
              "      <td>4</td>\n",
              "      <td>0</td>\n",
              "      <td>NaN</td>\n",
              "      <td>NaN</td>\n",
              "      <td>1.0</td>\n",
              "    </tr>\n",
              "  </tbody>\n",
              "</table>\n",
              "</div>"
            ],
            "text/plain": [
              "          regiao estado  ... emAcompanhamentoNovos  interior/metropolitana\n",
              "294808  Nordeste     PE  ...                   NaN                     1.0\n",
              "294809  Nordeste     PE  ...                   NaN                     1.0\n",
              "294810  Nordeste     PE  ...                   NaN                     1.0\n",
              "294811  Nordeste     PE  ...                   NaN                     1.0\n",
              "294812  Nordeste     PE  ...                   NaN                     1.0\n",
              "\n",
              "[5 rows x 17 columns]"
            ]
          },
          "metadata": {
            "tags": []
          },
          "execution_count": 9
        }
      ]
    },
    {
      "cell_type": "code",
      "metadata": {
        "id": "jp-70XejZjKO",
        "colab_type": "code",
        "colab": {
          "base_uri": "https://localhost:8080/",
          "height": 297
        },
        "outputId": "72bbac97-b06b-4456-8971-e45fb79ebf8e"
      },
      "source": [
        "\n",
        "plt.plot(pe.data, pe.casosAcumulado, 'b-', label='Casos Acumulados')\n",
        "# Create legend.\n",
        "plt.legend(loc='upper left')\n",
        "plt.xlabel('Dias')\n",
        "plt.ylabel('Qtd Casos')"
      ],
      "execution_count": null,
      "outputs": [
        {
          "output_type": "execute_result",
          "data": {
            "text/plain": [
              "Text(0, 0.5, 'Qtd Casos')"
            ]
          },
          "metadata": {
            "tags": []
          },
          "execution_count": 10
        },
        {
          "output_type": "display_data",
          "data": {
            "image/png": "[encoded data removed]",
            "text/plain": [
              "<Figure size 432x288 with 1 Axes>"
            ]
          },
          "metadata": {
            "tags": [],
            "needs_background": "light"
          }
        }
      ]
    },
    {
      "cell_type": "code",
      "metadata": {
        "id": "6kZRYfYa43jz",
        "colab_type": "code",
        "colab": {
          "base_uri": "https://localhost:8080/",
          "height": 296
        },
        "outputId": "61b04da3-890e-4521-9b02-ca863e983680"
      },
      "source": [
        "# Plot with differently-colored markers.\n",
        "#plt.plot(br.casosAcumulado, 'b-', label='Casos Acumulados')\n",
        "plt.plot(pe.data, pe.casosNovos, 'g-', label='Novos Casos')\n",
        "\n",
        "# Create legend.\n",
        "plt.legend(loc='upper left')\n",
        "plt.xlabel('Dias')\n",
        "plt.ylabel('Qtd Casos')"
      ],
      "execution_count": null,
      "outputs": [
        {
          "output_type": "execute_result",
          "data": {
            "text/plain": [
              "Text(0, 0.5, 'Qtd Casos')"
            ]
          },
          "metadata": {
            "tags": []
          },
          "execution_count": 11
        },
        {
          "output_type": "display_data",
          "data": {
            "image/png": "[encoded data removed]",
            "text/plain": [
              "<Figure size 432x288 with 1 Axes>"
            ]
          },
          "metadata": {
            "tags": [],
            "needs_background": "light"
          }
        }
      ]
    },
    {
      "cell_type": "markdown",
      "metadata": {
        "id": "H1bgKj635Chc",
        "colab_type": "text"
      },
      "source": [
        "## João Pessoa"
      ]
    },
    {
      "cell_type": "code",
      "metadata": {
        "id": "d5DjvoiE5HPF",
        "colab_type": "code",
        "colab": {}
      },
      "source": [
        "pb = data.loc[data.estado == \"PB\"]\n",
        "pb = pb.loc[pb.municipio == \"João Pessoa\"]"
      ],
      "execution_count": null,
      "outputs": []
    },
    {
      "cell_type": "code",
      "metadata": {
        "id": "RfOzeQ1ZZp-y",
        "colab_type": "code",
        "colab": {
          "base_uri": "https://localhost:8080/",
          "height": 296
        },
        "outputId": "56b3188f-d14d-4765-85a5-16784610142d"
      },
      "source": [
        "\n",
        "plt.plot(pb.data, pb.casosAcumulado, 'b-', label='Casos Acumulados')\n",
        "# Create legend.\n",
        "plt.legend(loc='upper left')\n",
        "plt.xlabel('Dias')\n",
        "plt.ylabel('Qtd Casos')"
      ],
      "execution_count": null,
      "outputs": [
        {
          "output_type": "execute_result",
          "data": {
            "text/plain": [
              "Text(0, 0.5, 'Qtd Casos')"
            ]
          },
          "metadata": {
            "tags": []
          },
          "execution_count": 13
        },
        {
          "output_type": "display_data",
          "data": {
            "image/png": "[encoded data removed]",
            "text/plain": [
              "<Figure size 432x288 with 1 Axes>"
            ]
          },
          "metadata": {
            "tags": [],
            "needs_background": "light"
          }
        }
      ]
    },
    {
      "cell_type": "code",
      "metadata": {
        "id": "D5Ojqswe5Ovr",
        "colab_type": "code",
        "colab": {
          "base_uri": "https://localhost:8080/",
          "height": 296
        },
        "outputId": "f95d4d2a-b04d-4b6b-e3bc-056a5f625a51"
      },
      "source": [
        "# Plot with differently-colored markers.\n",
        "#plt.plot(pb.data, pb.casosAcumulado, 'b-', label='Casos Acumulados')\n",
        "plt.plot(pb.data, pb.casosNovos, 'g-', label='Novos Casos')\n",
        "\n",
        "# Create legend.\n",
        "plt.legend(loc='upper left')\n",
        "plt.xlabel('Data')\n",
        "plt.ylabel('Qtd Casos')"
      ],
      "execution_count": null,
      "outputs": [
        {
          "output_type": "execute_result",
          "data": {
            "text/plain": [
              "Text(0, 0.5, 'Qtd Casos')"
            ]
          },
          "metadata": {
            "tags": []
          },
          "execution_count": 14
        },
        {
          "output_type": "display_data",
          "data": {
            "image/png": "[encoded data removed]",
            "text/plain": [
              "<Figure size 432x288 with 1 Axes>"
            ]
          },
          "metadata": {
            "tags": [],
            "needs_background": "light"
          }
        }
      ]
    },
    {
      "cell_type": "code",
      "metadata": {
        "id": "MfrLbPzQXsjm",
        "colab_type": "code",
        "colab": {}
      },
      "source": [
        "br.to_csv(\"/content/gdrive/My Drive/data/covid_br.csv\", sep=\";\", index= False)\n",
        "pb.to_csv(\"/content/gdrive/My Drive/data/covid_jp.csv\", sep=\";\", index= False)"
      ],
      "execution_count": null,
      "outputs": []
    },
    {
      "cell_type": "code",
      "metadata": {
        "id": "DJK_I4RBXcwj",
        "colab_type": "code",
        "colab": {}
      },
      "source": [
        "pb = data.loc[data.estado == \"PB\"]\n",
        "pb = pb.loc[pb.municipio == \"Campina Grande\"]"
      ],
      "execution_count": null,
      "outputs": []
    },
    {
      "cell_type": "code",
      "metadata": {
        "id": "fgHdW47OZwsS",
        "colab_type": "code",
        "colab": {
          "base_uri": "https://localhost:8080/",
          "height": 296
        },
        "outputId": "f4410d59-f192-4dc4-8142-595ca374ed1e"
      },
      "source": [
        "\n",
        "plt.plot(pb.data, pb.casosAcumulado, 'b-', label='Casos Acumulados')\n",
        "# Create legend.\n",
        "plt.legend(loc='upper left')\n",
        "plt.xlabel('Dias')\n",
        "plt.ylabel('Qtd Casos')"
      ],
      "execution_count": null,
      "outputs": [
        {
          "output_type": "execute_result",
          "data": {
            "text/plain": [
              "Text(0, 0.5, 'Qtd Casos')"
            ]
          },
          "metadata": {
            "tags": []
          },
          "execution_count": 17
        },
        {
          "output_type": "display_data",
          "data": {
            "image/png": "[encoded data removed]",
            "text/plain": [
              "<Figure size 432x288 with 1 Axes>"
            ]
          },
          "metadata": {
            "tags": [],
            "needs_background": "light"
          }
        }
      ]
    },
    {
      "cell_type": "code",
      "metadata": {
        "id": "TB595ICfXhF8",
        "colab_type": "code",
        "colab": {
          "base_uri": "https://localhost:8080/",
          "height": 296
        },
        "outputId": "542787b4-e03e-48af-c7bd-25e7ee3717d4"
      },
      "source": [
        "# Plot with differently-colored markers.\n",
        "#plt.plot(br.casosAcumulado, 'b-', label='Casos Acumulados')\n",
        "plt.plot(pb.data, pb.casosNovos, 'g-', label='Novos Casos')\n",
        "\n",
        "# Create legend.\n",
        "plt.legend(loc='upper left')\n",
        "plt.xlabel('Data')\n",
        "plt.ylabel('Qtd Casos')"
      ],
      "execution_count": null,
      "outputs": [
        {
          "output_type": "execute_result",
          "data": {
            "text/plain": [
              "Text(0, 0.5, 'Qtd Casos')"
            ]
          },
          "metadata": {
            "tags": []
          },
          "execution_count": 18
        },
        {
          "output_type": "display_data",
          "data": {
            "image/png": "[encoded data removed]",
            "text/plain": [
              "<Figure size 432x288 with 1 Axes>"
            ]
          },
          "metadata": {
            "tags": [],
            "needs_background": "light"
          }
        }
      ]
    },
    {
      "cell_type": "code",
      "metadata": {
        "id": "aT---J7QX5h3",
        "colab_type": "code",
        "colab": {}
      },
      "source": [
        "pb.to_csv(\"/content/gdrive/My Drive/data/covid_cg.csv\", sep=\";\", index= False)"
      ],
      "execution_count": null,
      "outputs": []
    }
  ]
}